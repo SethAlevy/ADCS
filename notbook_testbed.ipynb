{
 "cells": [
  {
   "cell_type": "code",
   "execution_count": null,
   "id": "11949cb9",
   "metadata": {},
   "outputs": [],
   "source": [
    "from spacecraft.satellite import SatelliteImplementation\n",
    "from setup.initial_settings import SimulationSetupReader\n",
    "from setup.two_line_element import TwoLineElementReader\n",
    "from visualziations.visualizations import plot_orbit, plot_lla, plot_position, plot_magnetic_field_eci, plot_magnetic_field_sbf, plot_angular_velocity, plot_euler_angles\n",
    "from spacecraft.sensors import MagnetometerImplementation, SunsensorImplementation, SensorFusionImplementation\n",
    "import core.transformations as tr\n",
    "import core.utilities as ut\n",
    "from pathlib import Path\n",
    "\n",
    "setup = SimulationSetupReader(Path('setup/initial_settings.json'))\n",
    "tle = TwoLineElementReader(Path('setup/tle'))\n",
    "magnetometer = MagnetometerImplementation(noise=True)\n",
    "sunsensor = SunsensorImplementation(noise=True)\n",
    "sensor_fusion = SensorFusionImplementation(['triad', 'quest', 'ekf'], tr.euler_xyz_to_quaternion(setup.euler_angles))\n",
    "\n",
    "satellite = SatelliteImplementation(setup, tle, magnetometer, sunsensor, sensor_fusion)\n",
    "\n",
    "state_vector = ut.initialize_state_vector(satellite)\n",
    "for x in range(1, 10000, 1):\n",
    "    print(f\"Updating iteration {x}\")\n",
    "    satellite.update_iteration(x)\n",
    "    # satellite.apply_rotation()  # applying rotation is required for triad and quest\n",
    "\n",
    "    mag_field_sbf, mag_field_eci = satellite.magnetic_field\n",
    "    sun_vector_sbf, sun_vector_eci = satellite.sun_vector\n",
    "    # print(f\"Reference quaternion: {q_ref}\"\n",
    "\n",
    "    # satellite.apply_triad(\n",
    "    #     ut.normalize(mag_field_eci), ut.normalize(sun_vector_eci), \n",
    "    #     ut.normalize(mag_field_sbf), ut.normalize(sun_vector_sbf)\n",
    "    # )\n",
    "    # q_triad = satellite.quaternion.copy()\n",
    "    # print(f\"Quaternion after TRIAD: {q_triad}\")\n",
    "    # satellite.apply_quest(\n",
    "    #     [ut.normalize(mag_field_sbf), ut.normalize(sun_vector_sbf)],\n",
    "    #     [ut.normalize(mag_field_eci), ut.normalize(sun_vector_eci)]\n",
    "    # )\n",
    "    # q_quest = satellite.quaternion.copy()\n",
    "    # print(f\"Quaternion after QUEST: {q_quest}\")\n",
    "\n",
    "    # ekf automatically updates the quaternion by the obtained rotation\n",
    "    satellite.apply_ekf(\n",
    "        [ut.normalize(mag_field_sbf), ut.normalize(sun_vector_sbf)],\n",
    "        [ut.normalize(mag_field_eci), ut.normalize(sun_vector_eci)]\n",
    "    )\n",
    "    q_ekf = satellite.quaternion \n",
    "\n",
    "    satellite.apply_detumbling('b_dot')\n",
    "    # print(f\"Quaternion after EKF: {q_ekf}\")\n",
    "    state_vector = ut.update_state_vector(satellite, state_vector)\n",
    "\n",
    "\n",
    "print(state_vector)\n",
    "plot_orbit(state_vector, setup)\n",
    "plot_position(state_vector)\n",
    "plot_lla(state_vector)\n",
    "plot_magnetic_field_eci(state_vector)\n",
    "plot_magnetic_field_sbf(state_vector) \n",
    "plot_angular_velocity(state_vector)\n",
    "plot_euler_angles(state_vector)\n"
   ]
  },
  {
   "cell_type": "code",
   "execution_count": 3,
   "id": "1c959485",
   "metadata": {},
   "outputs": [
    {
     "name": "stdout",
     "output_type": "stream",
     "text": [
      "Euler angles: [0.18526384 0.50900821 0.18526384 0.81991784]\n",
      "Converted to quaternion: [50. 50. 50.]\n"
     ]
    }
   ],
   "source": [
    "import setup.transformations as tr\n",
    "\n",
    "euler = [50, 50, 50]\n",
    "\n",
    "quat = tr.euler_xyz_to_quaternion(euler[0], euler[1], euler[2])\n",
    "print(f\"Euler angles: {quat}\")\n",
    "new_euler = tr.quaternion_to_euler_xyz(quat)\n",
    "print(f\"Converted to quaternion: {new_euler}\")"
   ]
  },
  {
   "cell_type": "code",
   "execution_count": 7,
   "id": "823ad242",
   "metadata": {},
   "outputs": [
    {
     "name": "stdout",
     "output_type": "stream",
     "text": [
      "[1.3213e+00 0.0000e+00 3.0000e-04]\n"
     ]
    }
   ],
   "source": [
    "import numpy as np\n",
    "\n",
    "array = np.array([1.321312312, 1.53252e-6, 0.0003432])\n",
    "print(np.round(array, 4))"
   ]
  }
 ],
 "metadata": {
  "kernelspec": {
   "display_name": "adcs-TrufCEYF-py3.13",
   "language": "python",
   "name": "python3"
  },
  "language_info": {
   "codemirror_mode": {
    "name": "ipython",
    "version": 3
   },
   "file_extension": ".py",
   "mimetype": "text/x-python",
   "name": "python",
   "nbconvert_exporter": "python",
   "pygments_lexer": "ipython3",
   "version": "3.13.3"
  }
 },
 "nbformat": 4,
 "nbformat_minor": 5
}
